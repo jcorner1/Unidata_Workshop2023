{
 "cells": [
  {
   "cell_type": "markdown",
   "id": "e22ed93b-98c9-4c6e-9aef-9d4fdcf92b29",
   "metadata": {},
   "source": [
    "# Data Download and Augmentation\n",
    "A little notebook to do little notebook things. More specifically, this notebook downloads the observations and model data and chops some of the uneeded data in the HRRR file. "
   ]
  },
  {
   "cell_type": "code",
   "execution_count": 1,
   "id": "dc3af072-cdb8-4c97-bcc0-f5c1708ae00e",
   "metadata": {},
   "outputs": [],
   "source": [
    "#Import Modules\n",
    "import requests\n",
    "import xarray as xr\n",
    "from datetime import datetime, timedelta\n",
    "import os\n",
    "import glob\n",
    "import pandas as pd"
   ]
  },
  {
   "cell_type": "markdown",
   "id": "b9d0274c-afd2-40a0-907d-2a45e7ad4cfa",
   "metadata": {},
   "source": [
    "## Observations Data Download\n",
    "data archive found here https://mesonet.agron.iastate.edu/GIS/rasters.php?rid=4"
   ]
  },
  {
   "cell_type": "code",
   "execution_count": 2,
   "id": "8d43ac44-8427-41d6-ace8-8dbf709e02f0",
   "metadata": {},
   "outputs": [],
   "source": [
    "#Create a time window for data\n",
    "daterange = pd.date_range(datetime(2022, 6, 1, 0), datetime(2022, 8, 31, 23), freq= '1H')\n",
    "\n",
    "#Create for loop of datetimes\n",
    "for single_date in daterange:\n",
    "    \n",
    "    #obtain the file for the MRMS lowest level reflectivity from the Iowa State website.\n",
    "    #set the data and pathfile as well as create the directory.\n",
    "    url = f'https://mesonet.agron.iastate.edu/cgi-bin/request/raster2netcdf.py?dstr={single_date.strftime(\"%Y%m%d%H00\")}&prod=mrms_lcref'\n",
    "    drt = f'/home/scratch/jcorner1/unidata/{url[-28:-16]}'\n",
    "    dirs = glob.glob(f'/home/scratch/jcorner1/unidata/*')\n",
    "\n",
    "    #Check to see if directory exist and if not create it.\n",
    "    if drt not in dirs:\n",
    "        os.mkdir(drt)\n",
    "\n",
    "    #Get data from the website and write it to a file.\n",
    "    response = requests.get(url)\n",
    "    filepath = f'{drt}/mrms_lcref{url[-28:-16]}.nc4'\n",
    "    open(filepath, 'wb').write(response.content)\n"
   ]
  },
  {
   "cell_type": "markdown",
   "id": "f569de87-3d51-4ab7-8982-63d296658e14",
   "metadata": {},
   "source": [
    "## Model Data Download and Augmentaion\n",
    "\n",
    "information for HRRR https://rapidrefresh.noaa.gov/hrrr/\n",
    "\n",
    "data archive https://console.cloud.google.com/storage/browser/high-resolution-rapid-refresh;tab=objects?prefix=&forceOnObjectsSortingFiltering=false"
   ]
  },
  {
   "cell_type": "code",
   "execution_count": null,
   "id": "612bd812-fb8a-44a2-b9d9-898f0140fc46",
   "metadata": {},
   "outputs": [],
   "source": [
    "#array of all the forecast hours and variables to drop from files.\n",
    "forecast_hours  = [3, 6, 9, 12, 15, 18, 24, 30, 36]\n",
    "var_drop = ['unknown', 'veril', 'hail', 'itng', 'tcolw', 'tcoli', 'tcc', 'ltng']\n",
    "\n",
    "#Create a time window for data\n",
    "daterange = pd.date_range(datetime(2022, 6, 1, 0), datetime(2022, 8, 31, 23), freq= '6H')\n",
    "\n",
    "#Create for loop of datetimes\n",
    "for single_date in daterange:\n",
    "    \n",
    "    drt = f'/home/scratch/jcorner1/unidata/{single_date.strftime(\"%Y%m%d%H00\")}'\n",
    "    print(single_date.strftime(\"%Y-%m-%dT%H:00\"))\n",
    "    \n",
    "    #iterate through the forecast hours \n",
    "    for hours in forecast_hours:\n",
    "\n",
    "        #calculate the model run that will line up with the correct forecast hour.\n",
    "        new_hour = single_date - timedelta(hours=hours)\n",
    "\n",
    "        #Get data from the websit and write it to a file.\n",
    "        url = f'https://storage.googleapis.com/high-resolution-rapid-refresh/hrrr.{new_hour.strftime(\"%Y%m%d\")}/conus/hrrr.t{new_hour.strftime(\"%H\")}z.wrfsfcf{str(hours).zfill(2)}.grib2'\n",
    "        response = requests.get(url)\n",
    "        open(f'{drt}/hrrr_t{new_hour.strftime(\"%Y%m%dT%H00\")}z_wrfsfcf{str(hours).zfill(2)}.grib2', 'wb').write(response.content)\n",
    "\n",
    "        #Open downloaded dataset\n",
    "        ds = xr.open_dataset(f'{drt}/hrrr_t{new_hour.strftime(\"%Y%m%dT%H00\")}z_wrfsfcf{str(hours).zfill(2)}.grib2', filter_by_keys={'typeOfLevel': 'atmosphere'})\n",
    "\n",
    "        #Create a new copy of the data, dropping the useless vars, and resaving the new file\n",
    "        clean_copy = ds.copy()\n",
    "        clean_copy.drop_vars(var_drop, errors='ignore')\n",
    "        clean_copy.to_netcdf(path= f'{drt}/hrrr_t{new_hour.strftime(\"%Y%m%dT%H00\")}z_wrfsfcf{str(hours).zfill(2)}.nc4', format='NETCDF4') \n",
    "\n",
    "        #Close both datasets\n",
    "        clean_copy.close()\n",
    "        ds.close()\n",
    "\n",
    "        #Remove the old dataset\n",
    "        os.remove(f'{drt}/hrrr_t{new_hour.strftime(\"%Y%m%dT%H00\")}z_wrfsfcf{str(hours).zfill(2)}.grib2')\n",
    "        "
   ]
  },
  {
   "cell_type": "markdown",
   "id": "00bd6ff1-e876-404f-ac16-4c4efbebfce8",
   "metadata": {},
   "source": [
    "## Index File Remover"
   ]
  },
  {
   "cell_type": "code",
   "execution_count": 9,
   "id": "87113c44-e55c-4309-afd2-1ffc239375c9",
   "metadata": {},
   "outputs": [],
   "source": [
    "dates = glob.glob('/home/scratch/jcorner1/unidata/*')\n",
    "dates.sort()\n",
    "\n",
    "#Iterate through each date\n",
    "for file in dates:\n",
    "    \n",
    "    #Find index files in the current directory\n",
    "    idx_files = glob.glob(f'{file}/*grib2*.idx')\n",
    "    \n",
    "    #Interate through the index files\n",
    "    for remove in idx_files:\n",
    "        \n",
    "        #Remove the index file\n",
    "        os.remove(remove)"
   ]
  },
  {
   "cell_type": "code",
   "execution_count": null,
   "id": "78f1cff2-7d48-4b20-a2a6-6b1edb7cb81e",
   "metadata": {},
   "outputs": [],
   "source": []
  }
 ],
 "metadata": {
  "kernelspec": {
   "display_name": "Python [conda env:pyEAE]",
   "language": "python",
   "name": "conda-env-pyEAE-py"
  },
  "language_info": {
   "codemirror_mode": {
    "name": "ipython",
    "version": 3
   },
   "file_extension": ".py",
   "mimetype": "text/x-python",
   "name": "python",
   "nbconvert_exporter": "python",
   "pygments_lexer": "ipython3",
   "version": "3.9.13"
  }
 },
 "nbformat": 4,
 "nbformat_minor": 5
}
